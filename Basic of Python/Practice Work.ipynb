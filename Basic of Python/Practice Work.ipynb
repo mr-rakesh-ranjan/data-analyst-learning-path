{
 "cells": [
  {
   "cell_type": "markdown",
   "id": "f0bb1a93",
   "metadata": {},
   "source": [
    "## User login system"
   ]
  },
  {
   "cell_type": "code",
   "execution_count": 42,
   "id": "aca1b6fd",
   "metadata": {},
   "outputs": [
    {
     "name": "stdout",
     "output_type": "stream",
     "text": [
      "Enter your usernamehjhi\n",
      "Re-enter your username!jkdjf\n",
      "Re-enter your username!ieruiut\n",
      "Re-enter your username!jkfdji\n",
      "Re-enter your username!rakesh@gmail.com\n",
      "Enter your passwordhjhdjgro\n",
      "Re-Enter your passwordkjfutu\n",
      "Re-Enter your passwordkjfkeou56\n",
      "Re-Enter your passwordhdjhfg\n",
      "Re-Enter your passwordjdfkjg\n",
      "Re-Enter your password12345\n",
      "welcome!\n"
     ]
    }
   ],
   "source": [
    "# while loop\n",
    "# username = 'rakesh@gmail.com'\n",
    "# password = '12345'\n",
    "username = input(\"Enter your username\")\n",
    "if username == 'rakesh@gmail.com':\n",
    "    password = input(\"Enter your password\")\n",
    "    if password == '12345':\n",
    "        print(\"Welcome\")\n",
    "    else:\n",
    "        while password != '12345':\n",
    "            password = input(\"Re-Enter your password\")\n",
    "            if password == '12345':\n",
    "                print(\"welcome!\")\n",
    "else:\n",
    "    while username != 'rakesh@gmail.com':\n",
    "        username = input(\"Re-enter your username!\")\n",
    "        if username == 'rakesh@gmail.com':\n",
    "            password = input(\"Enter your password\")\n",
    "            if password == '12345':\n",
    "                print(\"Welcome\")\n",
    "            else:\n",
    "                while password != '12345':\n",
    "                    password = input(\"Re-Enter your password\")\n",
    "                    if password == '12345':\n",
    "                        print(\"welcome!\")"
   ]
  },
  {
   "cell_type": "markdown",
   "id": "a1d2e93b",
   "metadata": {},
   "source": [
    "## Star Pattern\n"
   ]
  },
  {
   "cell_type": "code",
   "execution_count": 7,
   "id": "ac35fe37",
   "metadata": {},
   "outputs": [
    {
     "name": "stdout",
     "output_type": "stream",
     "text": [
      "ek number batao5\n",
      "\n",
      "* \n",
      "* * \n",
      "* * * \n",
      "* * * * \n",
      "* * * * * \n"
     ]
    }
   ],
   "source": [
    "#     *\n",
    "#     * *\n",
    "#     * * *\n",
    "#     * * * *\n",
    "n = int(input(\"ek number batao :  \"))\n",
    "\n",
    "for i in range(0, n + 1):\n",
    "    for j in range(0, i):\n",
    "        print(\"*\", end=\" \")\n",
    "    print()\n",
    "\n"
   ]
  },
  {
   "cell_type": "code",
   "execution_count": 9,
   "id": "1bfed3e1",
   "metadata": {},
   "outputs": [
    {
     "name": "stdout",
     "output_type": "stream",
     "text": [
      "Number batao  : 5\n",
      "        *  \n",
      "       * *  \n",
      "      * * *  \n",
      "     * * * *  \n",
      "    * * * * *  \n"
     ]
    }
   ],
   "source": [
    "n = int(input(\"Number batao  : \")) \n",
    "m = (2 * n) - 2\n",
    "for i in range(0, n):\n",
    "    for j in range(0, m):\n",
    "        print(end=\" \")\n",
    "    m = m - 1\n",
    "    for j in range(0, i + 1):\n",
    "        print(\"* \", end='')\n",
    "    print(\" \")"
   ]
  },
  {
   "cell_type": "code",
   "execution_count": 11,
   "id": "f15b5b87",
   "metadata": {},
   "outputs": [
    {
     "name": "stdout",
     "output_type": "stream",
     "text": [
      "ek number batao :  5\n",
      "* * * * * \n",
      "* * * * \n",
      "* * * \n",
      "* * \n",
      "* \n"
     ]
    }
   ],
   "source": [
    "n = int(input(\"ek number batao :  \"))\n",
    "\n",
    "for i in range(n, 0, -1):\n",
    "    for j in range(0, i):\n",
    "        print(\"*\", end=\" \")\n",
    "    print()"
   ]
  },
  {
   "cell_type": "code",
   "execution_count": 41,
   "id": "14056791",
   "metadata": {},
   "outputs": [
    {
     "name": "stdout",
     "output_type": "stream",
     "text": [
      "Ek number batao4\n",
      "      * \n",
      "    * * \n",
      "  * * * \n",
      "* * * * \n"
     ]
    }
   ],
   "source": [
    "# n = 6\n",
    "n = int(input(\"Ek number batao : \"))\n",
    "\n",
    "for i in range(1, n + 1):\n",
    "    for j in range(1, n + 1):\n",
    "        if(j <= n - i):\n",
    "            print(\" \", end = \" \")\n",
    "        else:\n",
    "            print(\"*\", end = \" \")\n",
    "    print()"
   ]
  },
  {
   "cell_type": "code",
   "execution_count": 44,
   "id": "94a145ad",
   "metadata": {},
   "outputs": [
    {
     "name": "stdout",
     "output_type": "stream",
     "text": [
      "Help on built-in function print in module builtins:\n",
      "\n",
      "print(...)\n",
      "    print(value, ..., sep=' ', end='\\n', file=sys.stdout, flush=False)\n",
      "    \n",
      "    Prints the values to a stream, or to sys.stdout by default.\n",
      "    Optional keyword arguments:\n",
      "    file:  a file-like object (stream); defaults to the current sys.stdout.\n",
      "    sep:   string inserted between values, default a space.\n",
      "    end:   string appended after the last value, default a newline.\n",
      "    flush: whether to forcibly flush the stream.\n",
      "\n"
     ]
    }
   ],
   "source": [
    "help(print)"
   ]
  },
  {
   "cell_type": "markdown",
   "id": "12b2f2aa",
   "metadata": {},
   "source": [
    "# List practice\n"
   ]
  },
  {
   "cell_type": "code",
   "execution_count": 6,
   "id": "beaafb3e",
   "metadata": {},
   "outputs": [
    {
     "name": "stdout",
     "output_type": "stream",
     "text": [
      "yes\n"
     ]
    }
   ],
   "source": [
    "print(\"yes\") if 2 < 5 else print(\"no\")"
   ]
  },
  {
   "cell_type": "code",
   "execution_count": 1,
   "id": "b9362dc9",
   "metadata": {},
   "outputs": [
    {
     "name": "stdout",
     "output_type": "stream",
     "text": [
      "['2', '1']\n",
      "['2']\n",
      "['1']\n",
      "[]\n",
      "None\n"
     ]
    }
   ],
   "source": [
    "# powerset\n",
    "\n",
    "def findPowerSet(S, s, n):\n",
    "#  null set\n",
    "    if n == 0:\n",
    "        print(s)\n",
    "        return\n",
    " \n",
    "    # consider the n'th element\n",
    "    s.append(S[n - 1])\n",
    "    findPowerSet(S, s, n - 1)\n",
    " \n",
    "    s.pop()                    # backtrack\n",
    " \n",
    "\n",
    "    # or don't consider the n'th element\n",
    "    findPowerSet(S, s, n - 1)\n",
    "\n",
    "    \n",
    "S = [\"1\", \"2\"]\n",
    "s = []\n",
    "t = findPowerSet(S, s, len(S))\n",
    "print(t)"
   ]
  },
  {
   "cell_type": "code",
   "execution_count": null,
   "id": "3487b130",
   "metadata": {},
   "outputs": [],
   "source": []
  }
 ],
 "metadata": {
  "kernelspec": {
   "display_name": "Python 3 (ipykernel)",
   "language": "python",
   "name": "python3"
  },
  "language_info": {
   "codemirror_mode": {
    "name": "ipython",
    "version": 3
   },
   "file_extension": ".py",
   "mimetype": "text/x-python",
   "name": "python",
   "nbconvert_exporter": "python",
   "pygments_lexer": "ipython3",
   "version": "3.9.12"
  }
 },
 "nbformat": 4,
 "nbformat_minor": 5
}
