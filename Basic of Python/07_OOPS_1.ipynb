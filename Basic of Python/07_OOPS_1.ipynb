{
 "cells": [
  {
   "cell_type": "code",
   "execution_count": 17,
   "id": "020760eb",
   "metadata": {},
   "outputs": [],
   "source": [
    "class Car:\n",
    "    \n",
    "    def __init__(self):\n",
    "        self.color = \"Blue\"\n",
    "        self.model = \"Sports\"\n",
    "    \n",
    "    def calAvgSpeed(self, km, time):\n",
    "        return km/time"
   ]
  },
  {
   "cell_type": "code",
   "execution_count": 21,
   "id": "7f9b3662",
   "metadata": {},
   "outputs": [
    {
     "name": "stdout",
     "output_type": "stream",
     "text": [
      "Blue\n",
      "4.0\n"
     ]
    }
   ],
   "source": [
    "thar = Car()\n",
    "print(thar.color)\n",
    "avg = thar.calAvgSpeed(100, 25)\n",
    "print(avg)"
   ]
  },
  {
   "cell_type": "code",
   "execution_count": null,
   "id": "32477fde",
   "metadata": {},
   "outputs": [],
   "source": []
  }
 ],
 "metadata": {
  "kernelspec": {
   "display_name": "Python 3 (ipykernel)",
   "language": "python",
   "name": "python3"
  },
  "language_info": {
   "codemirror_mode": {
    "name": "ipython",
    "version": 3
   },
   "file_extension": ".py",
   "mimetype": "text/x-python",
   "name": "python",
   "nbconvert_exporter": "python",
   "pygments_lexer": "ipython3",
   "version": "3.9.12"
  }
 },
 "nbformat": 4,
 "nbformat_minor": 5
}
