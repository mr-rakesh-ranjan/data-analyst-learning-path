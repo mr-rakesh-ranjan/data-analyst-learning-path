{
 "cells": [
  {
   "cell_type": "code",
   "execution_count": 1,
   "id": "2db800d5",
   "metadata": {},
   "outputs": [],
   "source": [
    "class ATM:\n",
    "    \n",
    "    def __init__ (self):\n",
    "        self.pin = \"\"\n",
    "        self.balance = 0\n",
    "        self.menu()\n",
    "        \n",
    "    def menu (self):\n",
    "        user_input = input(\"\"\"\n",
    "            Hello, How are you!!!\n",
    "            1. Enter 1 to create pin\n",
    "            2. Enter 2 to deposit\n",
    "            3. Enter 3 to withdraw\n",
    "            4. Enter 4 to check balance\n",
    "            5. Enter 5 to exit\n",
    "        \"\"\")\n",
    "        \n",
    "        if user_input == \"1\":\n",
    "            self.create_pin()\n",
    "        elif user_input == \"2\":\n",
    "            self.deposit()\n",
    "        elif user_input == \"3\":\n",
    "            self.withdraw()\n",
    "        elif user_input == \"4\":\n",
    "            self.check_balance()\n",
    "        else :\n",
    "            print(\"bye\")\n",
    "            \n",
    "            \n",
    "    # Creating pin method  \n",
    "    def create_pin(self):\n",
    "        self.pin = input(\"Enter your pin\")\n",
    "        print(\"Pin created Successfully!\")\n",
    "    \n",
    "    # deposit method\n",
    "    def deposit(self):\n",
    "        temp = input(\"Enter your pin!\")\n",
    "        if temp == self.pin:\n",
    "            amount = int(input(\"Enter the amount\"))\n",
    "            self.balance = self.balance + amount\n",
    "            print(\"Deposit successfull.\")\n",
    "        else:\n",
    "            print(\"Oops! Invalid pin.\")\n",
    "    \n",
    "    # withdraw method\n",
    "    def withdraw(self):\n",
    "        temp = input(\"Enter your pin.\")\n",
    "        if temp == self.pin:\n",
    "            amount = int(input(\"Enter the amount\"))\n",
    "            if amount < self.balance:\n",
    "                self.balance = self.balance - amount\n",
    "                print(\"Operations successfull\")\n",
    "        else:\n",
    "            print(\"Oops! Invalid pin\")\n",
    "            \n",
    "    # check_balance method\n",
    "    def check_balance(self):\n",
    "        temp = input(\"Enter your pin.\")\n",
    "        if temp == self.pin:\n",
    "            curr_balance = self.balance\n",
    "            print(curr_balance)\n",
    "        else:\n",
    "            print(\"Oops! Invalid pin\")"
   ]
  },
  {
   "cell_type": "markdown",
   "id": "61335e45",
   "metadata": {},
   "source": []
  },
  {
   "cell_type": "code",
   "execution_count": 2,
   "id": "98280a41",
   "metadata": {},
   "outputs": [
    {
     "name": "stdout",
     "output_type": "stream",
     "text": [
      "\n",
      "            Hello, How are you!!!\n",
      "            1. Enter 1 to create pin\n",
      "            2. Enter 2 to deposit\n",
      "            3. Enter 3 to withdraw\n",
      "            4. Enter 4 to check balance\n",
      "            5. Enter 5 to exit\n",
      "        1\n",
      "Enter your pin1234\n",
      "Pin created Successfully!\n"
     ]
    }
   ],
   "source": [
    "sbi = ATM()"
   ]
  },
  {
   "cell_type": "code",
   "execution_count": 3,
   "id": "924decc4",
   "metadata": {},
   "outputs": [
    {
     "name": "stdout",
     "output_type": "stream",
     "text": [
      "Enter your pin!1234\n",
      "Enter the amount1000\n",
      "Deposit successfull.\n"
     ]
    }
   ],
   "source": [
    "sbi.deposit()\n"
   ]
  },
  {
   "cell_type": "code",
   "execution_count": 4,
   "id": "e6972cda",
   "metadata": {},
   "outputs": [
    {
     "name": "stdout",
     "output_type": "stream",
     "text": [
      "Enter your pin.1234\n",
      "1000\n"
     ]
    }
   ],
   "source": [
    "sbi.check_balance()\n"
   ]
  },
  {
   "cell_type": "code",
   "execution_count": 5,
   "id": "e4929f16",
   "metadata": {},
   "outputs": [
    {
     "name": "stdout",
     "output_type": "stream",
     "text": [
      "Enter your pin.1234\n",
      "Enter the amount200\n",
      "Operations successfull\n"
     ]
    }
   ],
   "source": [
    "sbi.withdraw()\n"
   ]
  },
  {
   "cell_type": "code",
   "execution_count": 7,
   "id": "a5c44f3e",
   "metadata": {},
   "outputs": [
    {
     "name": "stdout",
     "output_type": "stream",
     "text": [
      "Enter your pin.1234\n",
      "800\n"
     ]
    }
   ],
   "source": [
    "sbi.check_balance()\n"
   ]
  },
  {
   "cell_type": "code",
   "execution_count": null,
   "id": "b0a369b3",
   "metadata": {},
   "outputs": [],
   "source": []
  }
 ],
 "metadata": {
  "kernelspec": {
   "display_name": "Python 3 (ipykernel)",
   "language": "python",
   "name": "python3"
  },
  "language_info": {
   "codemirror_mode": {
    "name": "ipython",
    "version": 3
   },
   "file_extension": ".py",
   "mimetype": "text/x-python",
   "name": "python",
   "nbconvert_exporter": "python",
   "pygments_lexer": "ipython3",
   "version": "3.9.12"
  }
 },
 "nbformat": 4,
 "nbformat_minor": 5
}
