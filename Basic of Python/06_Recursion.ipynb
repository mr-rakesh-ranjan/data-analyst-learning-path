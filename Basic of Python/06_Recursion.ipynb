{
 "cells": [
  {
   "cell_type": "code",
   "execution_count": 1,
   "id": "b2393e7a",
   "metadata": {},
   "outputs": [
    {
     "name": "stdout",
     "output_type": "stream",
     "text": [
      "['2', '1']\n",
      "['2']\n",
      "['1']\n",
      "[]\n",
      "None\n"
     ]
    }
   ],
   "source": [
    "def findPowerSet(S, s, n):\n",
    "#  null set\n",
    "    if n == 0:\n",
    "        print(s)\n",
    "        return\n",
    " \n",
    "    # consider the n'th element\n",
    "    s.append(S[n - 1])\n",
    "    findPowerSet(S, s, n - 1)\n",
    " \n",
    "    s.pop()                    # backtrack\n",
    " \n",
    "\n",
    "    # or don't consider the n'th element\n",
    "    findPowerSet(S, s, n - 1)\n",
    "\n",
    "    \n",
    "S = [\"1\", \"2\"]\n",
    "s = []\n",
    "t = findPowerSet(S, s, len(S))\n",
    "print(t)"
   ]
  },
  {
   "cell_type": "code",
   "execution_count": null,
   "id": "1cbe8ac3",
   "metadata": {},
   "outputs": [],
   "source": []
  }
 ],
 "metadata": {
  "kernelspec": {
   "display_name": "Python 3 (ipykernel)",
   "language": "python",
   "name": "python3"
  },
  "language_info": {
   "codemirror_mode": {
    "name": "ipython",
    "version": 3
   },
   "file_extension": ".py",
   "mimetype": "text/x-python",
   "name": "python",
   "nbconvert_exporter": "python",
   "pygments_lexer": "ipython3",
   "version": "3.9.12"
  }
 },
 "nbformat": 4,
 "nbformat_minor": 5
}
