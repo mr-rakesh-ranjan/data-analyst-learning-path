{
 "cells": [
  {
   "cell_type": "code",
   "execution_count": 1,
   "id": "bc3be3c2",
   "metadata": {},
   "outputs": [],
   "source": [
    "print(\"rakesh\", \"ranjan\")"
   ]
  },
  {
   "cell_type": "code",
   "execution_count": 2,
   "id": "ec89b250",
   "metadata": {},
   "outputs": [],
   "source": [
    "print()"
   ]
  },
  {
   "cell_type": "markdown",
   "id": "9ae86f9f",
   "metadata": {},
   "source": [
    "## Data Types\n",
    "\n",
    "- Basic Types (integer, float, complex, boolean and String)\n",
    "- Conatiner Types (list, Tuples, sets, and dictionary)\n",
    "- user Defined Types (Class)"
   ]
  },
  {
   "cell_type": "code",
   "execution_count": 3,
   "id": "3edbbfec",
   "metadata": {},
   "outputs": [
    {
     "name": "stdout",
     "output_type": "stream",
     "text": [
      "4\n",
      "inf\n"
     ]
    }
   ],
   "source": [
    "# Integer\n",
    "print(4)\n",
    "print(1e309) #1e308 is max limit for integer"
   ]
  },
  {
   "cell_type": "code",
   "execution_count": 4,
   "id": "c44781eb",
   "metadata": {},
   "outputs": [
    {
     "name": "stdout",
     "output_type": "stream",
     "text": [
      "4.6\n",
      "1.7e+308\n"
     ]
    }
   ],
   "source": [
    "# Float\n",
    "print(4.6)\n",
    "print(1.7e308) #max limit for float in python"
   ]
  },
  {
   "cell_type": "code",
   "execution_count": 5,
   "id": "3e38e221",
   "metadata": {},
   "outputs": [
    {
     "data": {
      "text/plain": [
       "9.5"
      ]
     },
     "execution_count": 5,
     "metadata": {},
     "output_type": "execute_result"
    }
   ],
   "source": [
    "# input()\n",
    "4 + 5.5"
   ]
  },
  {
   "cell_type": "code",
   "execution_count": null,
   "id": "f868ad81",
   "metadata": {},
   "outputs": [],
   "source": []
  },
  {
   "cell_type": "markdown",
   "id": "c487d2de",
   "metadata": {},
   "source": [
    "## Star pattern\n"
   ]
  },
  {
   "cell_type": "code",
   "execution_count": null,
   "id": "0ca4b71d",
   "metadata": {},
   "outputs": [],
   "source": []
  },
  {
   "cell_type": "code",
   "execution_count": null,
   "id": "596817a2",
   "metadata": {},
   "outputs": [],
   "source": []
  }
 ],
 "metadata": {
  "kernelspec": {
   "display_name": "Python 3 (ipykernel)",
   "language": "python",
   "name": "python3"
  },
  "language_info": {
   "codemirror_mode": {
    "name": "ipython",
    "version": 3
   },
   "file_extension": ".py",
   "mimetype": "text/x-python",
   "name": "python",
   "nbconvert_exporter": "python",
   "pygments_lexer": "ipython3",
   "version": "3.9.12"
  }
 },
 "nbformat": 4,
 "nbformat_minor": 5
}
